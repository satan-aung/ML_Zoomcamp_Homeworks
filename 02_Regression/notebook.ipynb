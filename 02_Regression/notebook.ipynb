{
 "cells": [
  {
   "cell_type": "markdown",
   "id": "a1a18fe9-3415-4497-b64f-a02558f66eba",
   "metadata": {},
   "source": [
    "## 2. Machine Learning for Regression"
   ]
  },
  {
   "cell_type": "code",
<<<<<<< HEAD
   "execution_count": 82,
=======
   "execution_count": 1,
>>>>>>> 97f59857e7ffa19eebb4b6d77b7711de7ba21dc4
   "id": "5e024020-372e-43e3-8d1b-296fa9105c15",
   "metadata": {},
   "outputs": [],
   "source": [
    "import pandas as pd\n",
    "import numpy as np"
   ]
  },
  {
   "cell_type": "markdown",
   "id": "b9a8701d-1c88-49bb-a436-5ab25bedc20a",
   "metadata": {},
   "source": [
    "## 2.2 Data Preparation"
   ]
  },
  {
<<<<<<< HEAD
   "cell_type": "raw",
   "id": "8feacb11-ca5d-44fa-82e7-423122c7cc9c",
=======
   "cell_type": "code",
   "execution_count": 2,
   "id": "114d0b2b-438d-47c9-bfe9-c4347c794b9f",
>>>>>>> 97f59857e7ffa19eebb4b6d77b7711de7ba21dc4
   "metadata": {},
   "source": [
    "data = 'https://raw.githubusercontent.com/alexeygrigorev/mlbookcamp-code/refs/heads/master/chapter-02-car-price/data.csv'"
   ]
  },
  {
<<<<<<< HEAD
   "cell_type": "raw",
   "id": "d82ae935-f7d8-4ce0-95c2-39be8ee52537",
   "metadata": {},
=======
   "cell_type": "code",
   "execution_count": 3,
   "id": "1643fdc1-9e35-47a1-9850-51221986ae19",
   "metadata": {},
   "outputs": [
    {
     "name": "stdout",
     "output_type": "stream",
     "text": [
      "--2025-10-14 16:20:22--  https://raw.githubusercontent.com/alexeygrigorev/mlbookcamp-code/refs/heads/master/chapter-02-car-price/data.csv\n",
      "Resolving raw.githubusercontent.com (raw.githubusercontent.com)... 185.199.110.133, 185.199.109.133, 185.199.111.133, ...\n",
      "Connecting to raw.githubusercontent.com (raw.githubusercontent.com)|185.199.110.133|:443... connected.\n",
      "HTTP request sent, awaiting response... 200 OK\n",
      "Length: 1475504 (1.4M) [text/plain]\n",
      "Saving to: ‘data.csv.1’\n",
      "\n",
      "data.csv.1          100%[===================>]   1.41M  --.-KB/s    in 0.01s   \n",
      "\n",
      "2025-10-14 16:20:22 (114 MB/s) - ‘data.csv.1’ saved [1475504/1475504]\n",
      "\n"
     ]
    }
   ],
>>>>>>> 97f59857e7ffa19eebb4b6d77b7711de7ba21dc4
   "source": [
    "!wget $data"
   ]
  },
  {
   "cell_type": "code",
   "execution_count": 4,
   "id": "543c909f-722d-4162-82c5-be800e6b6340",
   "metadata": {},
   "outputs": [],
   "source": [
    "df = pd.read_csv('data.csv')"
   ]
  },
  {
   "cell_type": "code",
   "execution_count": 5,
   "id": "68588c46-a9dc-43af-a50e-555a662fea75",
   "metadata": {},
   "outputs": [],
   "source": [
    "df.columns = df.columns.str.lower().str.replace(' ','_')"
   ]
  },
  {
   "cell_type": "code",
   "execution_count": 6,
   "id": "8527f7cd-a13c-4e90-98f8-15ddb819033d",
   "metadata": {},
   "outputs": [
    {
     "data": {
      "text/plain": [
       "['make',\n",
       " 'model',\n",
       " 'engine_fuel_type',\n",
       " 'transmission_type',\n",
       " 'driven_wheels',\n",
       " 'market_category',\n",
       " 'vehicle_size',\n",
       " 'vehicle_style']"
      ]
     },
     "execution_count": 6,
     "metadata": {},
     "output_type": "execute_result"
    }
   ],
   "source": [
    "strings = list(df.dtypes[df.dtypes == 'object'].index)\n",
    "strings"
   ]
  },
  {
   "cell_type": "code",
   "execution_count": 7,
   "id": "76e4aaf1-3e04-4f07-870c-79e97c0b948b",
   "metadata": {},
   "outputs": [],
   "source": [
    "for col in strings:\n",
    "    df[col] = df[col].str.lower().str.replace(' ','_')"
   ]
  },
  {
   "cell_type": "code",
   "execution_count": 8,
   "id": "6c75c7b2-045b-478d-8c03-ed1b4284800d",
   "metadata": {},
   "outputs": [
    {
     "data": {
      "text/html": [
       "<div>\n",
       "<style scoped>\n",
       "    .dataframe tbody tr th:only-of-type {\n",
       "        vertical-align: middle;\n",
       "    }\n",
       "\n",
       "    .dataframe tbody tr th {\n",
       "        vertical-align: top;\n",
       "    }\n",
       "\n",
       "    .dataframe thead th {\n",
       "        text-align: right;\n",
       "    }\n",
       "</style>\n",
       "<table border=\"1\" class=\"dataframe\">\n",
       "  <thead>\n",
       "    <tr style=\"text-align: right;\">\n",
       "      <th></th>\n",
       "      <th>make</th>\n",
       "      <th>model</th>\n",
       "      <th>year</th>\n",
       "      <th>engine_fuel_type</th>\n",
       "      <th>engine_hp</th>\n",
       "      <th>engine_cylinders</th>\n",
       "      <th>transmission_type</th>\n",
       "      <th>driven_wheels</th>\n",
       "      <th>number_of_doors</th>\n",
       "      <th>market_category</th>\n",
       "      <th>vehicle_size</th>\n",
       "      <th>vehicle_style</th>\n",
       "      <th>highway_mpg</th>\n",
       "      <th>city_mpg</th>\n",
       "      <th>popularity</th>\n",
       "      <th>msrp</th>\n",
       "    </tr>\n",
       "  </thead>\n",
       "  <tbody>\n",
       "    <tr>\n",
       "      <th>0</th>\n",
       "      <td>bmw</td>\n",
       "      <td>1_series_m</td>\n",
       "      <td>2011</td>\n",
       "      <td>premium_unleaded_(required)</td>\n",
       "      <td>335.0</td>\n",
       "      <td>6.0</td>\n",
       "      <td>manual</td>\n",
       "      <td>rear_wheel_drive</td>\n",
       "      <td>2.0</td>\n",
       "      <td>factory_tuner,luxury,high-performance</td>\n",
       "      <td>compact</td>\n",
       "      <td>coupe</td>\n",
       "      <td>26</td>\n",
       "      <td>19</td>\n",
       "      <td>3916</td>\n",
       "      <td>46135</td>\n",
       "    </tr>\n",
       "    <tr>\n",
       "      <th>1</th>\n",
       "      <td>bmw</td>\n",
       "      <td>1_series</td>\n",
       "      <td>2011</td>\n",
       "      <td>premium_unleaded_(required)</td>\n",
       "      <td>300.0</td>\n",
       "      <td>6.0</td>\n",
       "      <td>manual</td>\n",
       "      <td>rear_wheel_drive</td>\n",
       "      <td>2.0</td>\n",
       "      <td>luxury,performance</td>\n",
       "      <td>compact</td>\n",
       "      <td>convertible</td>\n",
       "      <td>28</td>\n",
       "      <td>19</td>\n",
       "      <td>3916</td>\n",
       "      <td>40650</td>\n",
       "    </tr>\n",
       "    <tr>\n",
       "      <th>2</th>\n",
       "      <td>bmw</td>\n",
       "      <td>1_series</td>\n",
       "      <td>2011</td>\n",
       "      <td>premium_unleaded_(required)</td>\n",
       "      <td>300.0</td>\n",
       "      <td>6.0</td>\n",
       "      <td>manual</td>\n",
       "      <td>rear_wheel_drive</td>\n",
       "      <td>2.0</td>\n",
       "      <td>luxury,high-performance</td>\n",
       "      <td>compact</td>\n",
       "      <td>coupe</td>\n",
       "      <td>28</td>\n",
       "      <td>20</td>\n",
       "      <td>3916</td>\n",
       "      <td>36350</td>\n",
       "    </tr>\n",
       "    <tr>\n",
       "      <th>3</th>\n",
       "      <td>bmw</td>\n",
       "      <td>1_series</td>\n",
       "      <td>2011</td>\n",
       "      <td>premium_unleaded_(required)</td>\n",
       "      <td>230.0</td>\n",
       "      <td>6.0</td>\n",
       "      <td>manual</td>\n",
       "      <td>rear_wheel_drive</td>\n",
       "      <td>2.0</td>\n",
       "      <td>luxury,performance</td>\n",
       "      <td>compact</td>\n",
       "      <td>coupe</td>\n",
       "      <td>28</td>\n",
       "      <td>18</td>\n",
       "      <td>3916</td>\n",
       "      <td>29450</td>\n",
       "    </tr>\n",
       "    <tr>\n",
       "      <th>4</th>\n",
       "      <td>bmw</td>\n",
       "      <td>1_series</td>\n",
       "      <td>2011</td>\n",
       "      <td>premium_unleaded_(required)</td>\n",
       "      <td>230.0</td>\n",
       "      <td>6.0</td>\n",
       "      <td>manual</td>\n",
       "      <td>rear_wheel_drive</td>\n",
       "      <td>2.0</td>\n",
       "      <td>luxury</td>\n",
       "      <td>compact</td>\n",
       "      <td>convertible</td>\n",
       "      <td>28</td>\n",
       "      <td>18</td>\n",
       "      <td>3916</td>\n",
       "      <td>34500</td>\n",
       "    </tr>\n",
       "  </tbody>\n",
       "</table>\n",
       "</div>"
      ],
      "text/plain": [
       "  make       model  year             engine_fuel_type  engine_hp  \\\n",
       "0  bmw  1_series_m  2011  premium_unleaded_(required)      335.0   \n",
       "1  bmw    1_series  2011  premium_unleaded_(required)      300.0   \n",
       "2  bmw    1_series  2011  premium_unleaded_(required)      300.0   \n",
       "3  bmw    1_series  2011  premium_unleaded_(required)      230.0   \n",
       "4  bmw    1_series  2011  premium_unleaded_(required)      230.0   \n",
       "\n",
       "   engine_cylinders transmission_type     driven_wheels  number_of_doors  \\\n",
       "0               6.0            manual  rear_wheel_drive              2.0   \n",
       "1               6.0            manual  rear_wheel_drive              2.0   \n",
       "2               6.0            manual  rear_wheel_drive              2.0   \n",
       "3               6.0            manual  rear_wheel_drive              2.0   \n",
       "4               6.0            manual  rear_wheel_drive              2.0   \n",
       "\n",
       "                         market_category vehicle_size vehicle_style  \\\n",
       "0  factory_tuner,luxury,high-performance      compact         coupe   \n",
       "1                     luxury,performance      compact   convertible   \n",
       "2                luxury,high-performance      compact         coupe   \n",
       "3                     luxury,performance      compact         coupe   \n",
       "4                                 luxury      compact   convertible   \n",
       "\n",
       "   highway_mpg  city_mpg  popularity   msrp  \n",
       "0           26        19        3916  46135  \n",
       "1           28        19        3916  40650  \n",
       "2           28        20        3916  36350  \n",
       "3           28        18        3916  29450  \n",
       "4           28        18        3916  34500  "
      ]
     },
     "execution_count": 8,
     "metadata": {},
     "output_type": "execute_result"
    }
   ],
   "source": [
    "df.head()"
   ]
  },
  {
   "cell_type": "code",
   "execution_count": 9,
   "id": "8f2bd000-4328-42ad-afdd-59dcbd6fe76b",
   "metadata": {
    "editable": true,
    "slideshow": {
     "slide_type": ""
    },
    "tags": []
   },
   "outputs": [
    {
     "data": {
      "text/plain": [
       "make                  object\n",
       "model                 object\n",
       "year                   int64\n",
       "engine_fuel_type      object\n",
       "engine_hp            float64\n",
       "engine_cylinders     float64\n",
       "transmission_type     object\n",
       "driven_wheels         object\n",
       "number_of_doors      float64\n",
       "market_category       object\n",
       "vehicle_size          object\n",
       "vehicle_style         object\n",
       "highway_mpg            int64\n",
       "city_mpg               int64\n",
       "popularity             int64\n",
       "msrp                   int64\n",
       "dtype: object"
      ]
     },
     "execution_count": 9,
     "metadata": {},
     "output_type": "execute_result"
    }
   ],
   "source": [
    "df.dtypes"
   ]
  },
  {
   "cell_type": "markdown",
   "id": "97f13c3b-eecd-42f9-975d-8b6285b27ee4",
   "metadata": {},
   "source": [
    "## 2.3 Exploratory data analysis"
   ]
  },
  {
   "cell_type": "code",
   "execution_count": 10,
   "id": "e5ee5e6b-8688-4935-8f6f-09e96fab7f93",
   "metadata": {},
   "outputs": [
    {
     "name": "stdout",
     "output_type": "stream",
     "text": [
      "make\n",
      "['bmw' 'audi' 'fiat' 'mercedes-benz' 'chrysler']\n",
      "48\n",
      "\n",
      "model\n",
      "['1_series_m' '1_series' '100' '124_spider' '190-class']\n",
      "914\n",
      "\n",
      "year\n",
      "[2011 2012 2013 1992 1993]\n",
      "28\n",
      "\n",
      "engine_fuel_type\n",
      "['premium_unleaded_(required)' 'regular_unleaded'\n",
      " 'premium_unleaded_(recommended)' 'flex-fuel_(unleaded/e85)' 'diesel']\n",
      "10\n",
      "\n",
      "engine_hp\n",
      "[335. 300. 230. 320. 172.]\n",
      "356\n",
      "\n",
      "engine_cylinders\n",
      "[ 6.  4.  5.  8. 12.]\n",
      "9\n",
      "\n",
      "transmission_type\n",
      "['manual' 'automatic' 'automated_manual' 'direct_drive' 'unknown']\n",
      "5\n",
      "\n",
      "driven_wheels\n",
      "['rear_wheel_drive' 'front_wheel_drive' 'all_wheel_drive'\n",
      " 'four_wheel_drive']\n",
      "4\n",
      "\n",
      "number_of_doors\n",
      "[ 2.  4.  3. nan]\n",
      "3\n",
      "\n",
      "market_category\n",
      "['factory_tuner,luxury,high-performance' 'luxury,performance'\n",
      " 'luxury,high-performance' 'luxury' 'performance']\n",
      "71\n",
      "\n",
      "vehicle_size\n",
      "['compact' 'midsize' 'large']\n",
      "3\n",
      "\n",
      "vehicle_style\n",
      "['coupe' 'convertible' 'sedan' 'wagon' '4dr_hatchback']\n",
      "16\n",
      "\n",
      "highway_mpg\n",
      "[26 28 27 25 24]\n",
      "59\n",
      "\n",
      "city_mpg\n",
      "[19 20 18 17 16]\n",
      "69\n",
      "\n",
      "popularity\n",
      "[3916 3105  819  617 1013]\n",
      "48\n",
      "\n",
      "msrp\n",
      "[46135 40650 36350 29450 34500]\n",
      "6049\n",
      "\n"
     ]
    }
   ],
   "source": [
    "for col in df.columns:\n",
    "    print(col)\n",
    "    print(df[col].unique()[:5])\n",
    "    print(df[col].nunique())\n",
    "    print()"
   ]
  },
  {
   "cell_type": "code",
   "execution_count": 11,
   "id": "efdfd2c2-9321-4124-8c69-429648eb1c64",
   "metadata": {},
   "outputs": [
    {
     "data": {
      "text/html": [
       "<div>\n",
       "<style scoped>\n",
       "    .dataframe tbody tr th:only-of-type {\n",
       "        vertical-align: middle;\n",
       "    }\n",
       "\n",
       "    .dataframe tbody tr th {\n",
       "        vertical-align: top;\n",
       "    }\n",
       "\n",
       "    .dataframe thead th {\n",
       "        text-align: right;\n",
       "    }\n",
       "</style>\n",
       "<table border=\"1\" class=\"dataframe\">\n",
       "  <thead>\n",
       "    <tr style=\"text-align: right;\">\n",
       "      <th></th>\n",
       "      <th>make</th>\n",
       "      <th>model</th>\n",
       "      <th>year</th>\n",
       "      <th>engine_fuel_type</th>\n",
       "      <th>engine_hp</th>\n",
       "      <th>engine_cylinders</th>\n",
       "      <th>transmission_type</th>\n",
       "      <th>driven_wheels</th>\n",
       "      <th>number_of_doors</th>\n",
       "      <th>market_category</th>\n",
       "      <th>vehicle_size</th>\n",
       "      <th>vehicle_style</th>\n",
       "      <th>highway_mpg</th>\n",
       "      <th>city_mpg</th>\n",
       "      <th>popularity</th>\n",
       "      <th>msrp</th>\n",
       "    </tr>\n",
       "  </thead>\n",
       "  <tbody>\n",
       "    <tr>\n",
       "      <th>0</th>\n",
       "      <td>bmw</td>\n",
       "      <td>1_series_m</td>\n",
       "      <td>2011</td>\n",
       "      <td>premium_unleaded_(required)</td>\n",
       "      <td>335.0</td>\n",
       "      <td>6.0</td>\n",
       "      <td>manual</td>\n",
       "      <td>rear_wheel_drive</td>\n",
       "      <td>2.0</td>\n",
       "      <td>factory_tuner,luxury,high-performance</td>\n",
       "      <td>compact</td>\n",
       "      <td>coupe</td>\n",
       "      <td>26</td>\n",
       "      <td>19</td>\n",
       "      <td>3916</td>\n",
       "      <td>46135</td>\n",
       "    </tr>\n",
       "    <tr>\n",
       "      <th>1</th>\n",
       "      <td>bmw</td>\n",
       "      <td>1_series</td>\n",
       "      <td>2011</td>\n",
       "      <td>premium_unleaded_(required)</td>\n",
       "      <td>300.0</td>\n",
       "      <td>6.0</td>\n",
       "      <td>manual</td>\n",
       "      <td>rear_wheel_drive</td>\n",
       "      <td>2.0</td>\n",
       "      <td>luxury,performance</td>\n",
       "      <td>compact</td>\n",
       "      <td>convertible</td>\n",
       "      <td>28</td>\n",
       "      <td>19</td>\n",
       "      <td>3916</td>\n",
       "      <td>40650</td>\n",
       "    </tr>\n",
       "    <tr>\n",
       "      <th>2</th>\n",
       "      <td>bmw</td>\n",
       "      <td>1_series</td>\n",
       "      <td>2011</td>\n",
       "      <td>premium_unleaded_(required)</td>\n",
       "      <td>300.0</td>\n",
       "      <td>6.0</td>\n",
       "      <td>manual</td>\n",
       "      <td>rear_wheel_drive</td>\n",
       "      <td>2.0</td>\n",
       "      <td>luxury,high-performance</td>\n",
       "      <td>compact</td>\n",
       "      <td>coupe</td>\n",
       "      <td>28</td>\n",
       "      <td>20</td>\n",
       "      <td>3916</td>\n",
       "      <td>36350</td>\n",
       "    </tr>\n",
       "    <tr>\n",
       "      <th>3</th>\n",
       "      <td>bmw</td>\n",
       "      <td>1_series</td>\n",
       "      <td>2011</td>\n",
       "      <td>premium_unleaded_(required)</td>\n",
       "      <td>230.0</td>\n",
       "      <td>6.0</td>\n",
       "      <td>manual</td>\n",
       "      <td>rear_wheel_drive</td>\n",
       "      <td>2.0</td>\n",
       "      <td>luxury,performance</td>\n",
       "      <td>compact</td>\n",
       "      <td>coupe</td>\n",
       "      <td>28</td>\n",
       "      <td>18</td>\n",
       "      <td>3916</td>\n",
       "      <td>29450</td>\n",
       "    </tr>\n",
       "    <tr>\n",
       "      <th>4</th>\n",
       "      <td>bmw</td>\n",
       "      <td>1_series</td>\n",
       "      <td>2011</td>\n",
       "      <td>premium_unleaded_(required)</td>\n",
       "      <td>230.0</td>\n",
       "      <td>6.0</td>\n",
       "      <td>manual</td>\n",
       "      <td>rear_wheel_drive</td>\n",
       "      <td>2.0</td>\n",
       "      <td>luxury</td>\n",
       "      <td>compact</td>\n",
       "      <td>convertible</td>\n",
       "      <td>28</td>\n",
       "      <td>18</td>\n",
       "      <td>3916</td>\n",
       "      <td>34500</td>\n",
       "    </tr>\n",
       "    <tr>\n",
       "      <th>...</th>\n",
       "      <td>...</td>\n",
       "      <td>...</td>\n",
       "      <td>...</td>\n",
       "      <td>...</td>\n",
       "      <td>...</td>\n",
       "      <td>...</td>\n",
       "      <td>...</td>\n",
       "      <td>...</td>\n",
       "      <td>...</td>\n",
       "      <td>...</td>\n",
       "      <td>...</td>\n",
       "      <td>...</td>\n",
       "      <td>...</td>\n",
       "      <td>...</td>\n",
       "      <td>...</td>\n",
       "      <td>...</td>\n",
       "    </tr>\n",
       "    <tr>\n",
       "      <th>11909</th>\n",
       "      <td>acura</td>\n",
       "      <td>zdx</td>\n",
       "      <td>2012</td>\n",
       "      <td>premium_unleaded_(required)</td>\n",
       "      <td>300.0</td>\n",
       "      <td>6.0</td>\n",
       "      <td>automatic</td>\n",
       "      <td>all_wheel_drive</td>\n",
       "      <td>4.0</td>\n",
       "      <td>crossover,hatchback,luxury</td>\n",
       "      <td>midsize</td>\n",
       "      <td>4dr_hatchback</td>\n",
       "      <td>23</td>\n",
       "      <td>16</td>\n",
       "      <td>204</td>\n",
       "      <td>46120</td>\n",
       "    </tr>\n",
       "    <tr>\n",
       "      <th>11910</th>\n",
       "      <td>acura</td>\n",
       "      <td>zdx</td>\n",
       "      <td>2012</td>\n",
       "      <td>premium_unleaded_(required)</td>\n",
       "      <td>300.0</td>\n",
       "      <td>6.0</td>\n",
       "      <td>automatic</td>\n",
       "      <td>all_wheel_drive</td>\n",
       "      <td>4.0</td>\n",
       "      <td>crossover,hatchback,luxury</td>\n",
       "      <td>midsize</td>\n",
       "      <td>4dr_hatchback</td>\n",
       "      <td>23</td>\n",
       "      <td>16</td>\n",
       "      <td>204</td>\n",
       "      <td>56670</td>\n",
       "    </tr>\n",
       "    <tr>\n",
       "      <th>11911</th>\n",
       "      <td>acura</td>\n",
       "      <td>zdx</td>\n",
       "      <td>2012</td>\n",
       "      <td>premium_unleaded_(required)</td>\n",
       "      <td>300.0</td>\n",
       "      <td>6.0</td>\n",
       "      <td>automatic</td>\n",
       "      <td>all_wheel_drive</td>\n",
       "      <td>4.0</td>\n",
       "      <td>crossover,hatchback,luxury</td>\n",
       "      <td>midsize</td>\n",
       "      <td>4dr_hatchback</td>\n",
       "      <td>23</td>\n",
       "      <td>16</td>\n",
       "      <td>204</td>\n",
       "      <td>50620</td>\n",
       "    </tr>\n",
       "    <tr>\n",
       "      <th>11912</th>\n",
       "      <td>acura</td>\n",
       "      <td>zdx</td>\n",
       "      <td>2013</td>\n",
       "      <td>premium_unleaded_(recommended)</td>\n",
       "      <td>300.0</td>\n",
       "      <td>6.0</td>\n",
       "      <td>automatic</td>\n",
       "      <td>all_wheel_drive</td>\n",
       "      <td>4.0</td>\n",
       "      <td>crossover,hatchback,luxury</td>\n",
       "      <td>midsize</td>\n",
       "      <td>4dr_hatchback</td>\n",
       "      <td>23</td>\n",
       "      <td>16</td>\n",
       "      <td>204</td>\n",
       "      <td>50920</td>\n",
       "    </tr>\n",
       "    <tr>\n",
       "      <th>11913</th>\n",
       "      <td>lincoln</td>\n",
       "      <td>zephyr</td>\n",
       "      <td>2006</td>\n",
       "      <td>regular_unleaded</td>\n",
       "      <td>221.0</td>\n",
       "      <td>6.0</td>\n",
       "      <td>automatic</td>\n",
       "      <td>front_wheel_drive</td>\n",
       "      <td>4.0</td>\n",
       "      <td>luxury</td>\n",
       "      <td>midsize</td>\n",
       "      <td>sedan</td>\n",
       "      <td>26</td>\n",
       "      <td>17</td>\n",
       "      <td>61</td>\n",
       "      <td>28995</td>\n",
       "    </tr>\n",
       "  </tbody>\n",
       "</table>\n",
       "<p>11914 rows × 16 columns</p>\n",
       "</div>"
      ],
      "text/plain": [
       "          make       model  year                engine_fuel_type  engine_hp  \\\n",
       "0          bmw  1_series_m  2011     premium_unleaded_(required)      335.0   \n",
       "1          bmw    1_series  2011     premium_unleaded_(required)      300.0   \n",
       "2          bmw    1_series  2011     premium_unleaded_(required)      300.0   \n",
       "3          bmw    1_series  2011     premium_unleaded_(required)      230.0   \n",
       "4          bmw    1_series  2011     premium_unleaded_(required)      230.0   \n",
       "...        ...         ...   ...                             ...        ...   \n",
       "11909    acura         zdx  2012     premium_unleaded_(required)      300.0   \n",
       "11910    acura         zdx  2012     premium_unleaded_(required)      300.0   \n",
       "11911    acura         zdx  2012     premium_unleaded_(required)      300.0   \n",
       "11912    acura         zdx  2013  premium_unleaded_(recommended)      300.0   \n",
       "11913  lincoln      zephyr  2006                regular_unleaded      221.0   \n",
       "\n",
       "       engine_cylinders transmission_type      driven_wheels  number_of_doors  \\\n",
       "0                   6.0            manual   rear_wheel_drive              2.0   \n",
       "1                   6.0            manual   rear_wheel_drive              2.0   \n",
       "2                   6.0            manual   rear_wheel_drive              2.0   \n",
       "3                   6.0            manual   rear_wheel_drive              2.0   \n",
       "4                   6.0            manual   rear_wheel_drive              2.0   \n",
       "...                 ...               ...                ...              ...   \n",
       "11909               6.0         automatic    all_wheel_drive              4.0   \n",
       "11910               6.0         automatic    all_wheel_drive              4.0   \n",
       "11911               6.0         automatic    all_wheel_drive              4.0   \n",
       "11912               6.0         automatic    all_wheel_drive              4.0   \n",
       "11913               6.0         automatic  front_wheel_drive              4.0   \n",
       "\n",
       "                             market_category vehicle_size  vehicle_style  \\\n",
       "0      factory_tuner,luxury,high-performance      compact          coupe   \n",
       "1                         luxury,performance      compact    convertible   \n",
       "2                    luxury,high-performance      compact          coupe   \n",
       "3                         luxury,performance      compact          coupe   \n",
       "4                                     luxury      compact    convertible   \n",
       "...                                      ...          ...            ...   \n",
       "11909             crossover,hatchback,luxury      midsize  4dr_hatchback   \n",
       "11910             crossover,hatchback,luxury      midsize  4dr_hatchback   \n",
       "11911             crossover,hatchback,luxury      midsize  4dr_hatchback   \n",
       "11912             crossover,hatchback,luxury      midsize  4dr_hatchback   \n",
       "11913                                 luxury      midsize          sedan   \n",
       "\n",
       "       highway_mpg  city_mpg  popularity   msrp  \n",
       "0               26        19        3916  46135  \n",
       "1               28        19        3916  40650  \n",
       "2               28        20        3916  36350  \n",
       "3               28        18        3916  29450  \n",
       "4               28        18        3916  34500  \n",
       "...            ...       ...         ...    ...  \n",
       "11909           23        16         204  46120  \n",
       "11910           23        16         204  56670  \n",
       "11911           23        16         204  50620  \n",
       "11912           23        16         204  50920  \n",
       "11913           26        17          61  28995  \n",
       "\n",
       "[11914 rows x 16 columns]"
      ]
     },
     "execution_count": 11,
     "metadata": {},
     "output_type": "execute_result"
    }
   ],
   "source": [
    "df"
   ]
  },
  {
   "cell_type": "markdown",
   "id": "64d464fa-4510-49cc-8554-8bb1abe89ebc",
   "metadata": {},
   "source": [
    "Distribution of price"
   ]
  },
  {
   "cell_type": "code",
   "execution_count": 12,
   "id": "9b32484f-aa7f-4d1e-9676-0049a0dd50b1",
   "metadata": {},
   "outputs": [],
   "source": [
    "import matplotlib.pyplot as  plt\n",
    "import seaborn as sns\n",
    "\n",
    "%matplotlib inline"
   ]
  },
  {
   "cell_type": "code",
   "execution_count": 13,
   "id": "8bede92c-d403-4f76-ae4d-3d0628f8fc86",
   "metadata": {},
   "outputs": [
    {
     "data": {
      "text/plain": [
       "<Axes: xlabel='msrp', ylabel='Count'>"
      ]
     },
     "execution_count": 13,
     "metadata": {},
     "output_type": "execute_result"
    },
    {
     "data": {
      "image/png": "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",
      "text/plain": [
       "<Figure size 640x480 with 1 Axes>"
      ]
     },
     "metadata": {},
     "output_type": "display_data"
    }
   ],
   "source": [
    "sns.histplot(df.msrp, bins=50)"
   ]
  },
  {
   "cell_type": "code",
   "execution_count": 14,
   "id": "e3963457-1455-492e-9016-2407026f5050",
   "metadata": {},
   "outputs": [
    {
     "data": {
      "text/plain": [
       "<Axes: xlabel='msrp', ylabel='Count'>"
      ]
     },
     "execution_count": 14,
     "metadata": {},
     "output_type": "execute_result"
    },
    {
     "data": {
      "image/png": "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",
      "text/plain": [
       "<Figure size 640x480 with 1 Axes>"
      ]
     },
     "metadata": {},
     "output_type": "display_data"
    }
   ],
   "source": [
    "sns.histplot(df.msrp[df.msrp < 100000], bins=50)"
   ]
  },
  {
   "cell_type": "code",
   "execution_count": 15,
   "id": "eb84a270-a6b9-4d57-967c-593f229251e7",
   "metadata": {},
   "outputs": [
    {
     "data": {
      "text/plain": [
       "array([ 0.        ,  0.69314718,  2.39789527,  6.90875478, 11.51293546])"
      ]
     },
     "execution_count": 15,
     "metadata": {},
     "output_type": "execute_result"
    }
   ],
   "source": [
    "np.log([0 + 1, 1 + 1, 10 + 1, 1000 + 1, 100000 + 1])"
   ]
  },
  {
   "cell_type": "code",
   "execution_count": 16,
   "id": "93a1b2d4-7997-4d34-8787-9dc12b7cfb78",
   "metadata": {},
   "outputs": [
    {
     "data": {
      "text/plain": [
       "array([ 0.        ,  0.69314718,  2.39789527,  6.90875478, 11.51293546])"
      ]
     },
     "execution_count": 16,
     "metadata": {},
     "output_type": "execute_result"
    }
   ],
   "source": [
    "np.log1p([0, 1, 10, 1000, 100000])"
   ]
  },
  {
   "cell_type": "code",
   "execution_count": 17,
   "id": "0c4fcea2-8b61-4691-b4e6-bf06bf2790a0",
   "metadata": {},
   "outputs": [],
   "source": [
    "price_logs = np.log1p(df.msrp)"
   ]
  },
  {
   "cell_type": "code",
   "execution_count": 18,
   "id": "a35405c3-b5d7-4702-bca8-5856d089aef3",
   "metadata": {},
   "outputs": [
    {
     "data": {
      "text/plain": [
       "0        10.739349\n",
       "1        10.612779\n",
       "2        10.500977\n",
       "3        10.290483\n",
       "4        10.448744\n",
       "           ...    \n",
       "11909    10.739024\n",
       "11910    10.945018\n",
       "11911    10.832122\n",
       "11912    10.838031\n",
       "11913    10.274913\n",
       "Name: msrp, Length: 11914, dtype: float64"
      ]
     },
     "execution_count": 18,
     "metadata": {},
     "output_type": "execute_result"
    }
   ],
   "source": [
    "price_logs"
   ]
  },
  {
   "cell_type": "code",
   "execution_count": 19,
   "id": "7d779f40-2f33-4df1-97c9-800ed41d196a",
   "metadata": {},
   "outputs": [
    {
     "data": {
      "text/plain": [
       "<Axes: xlabel='msrp', ylabel='Count'>"
      ]
     },
     "execution_count": 19,
     "metadata": {},
     "output_type": "execute_result"
    },
    {
     "data": {
      "image/png": "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",
      "text/plain": [
       "<Figure size 640x480 with 1 Axes>"
      ]
     },
     "metadata": {},
     "output_type": "display_data"
    }
   ],
   "source": [
    "sns.histplot(price_logs, bins=50)"
   ]
  },
  {
   "cell_type": "markdown",
   "id": "375003da-2078-44aa-9427-0b4cb4b2d28b",
   "metadata": {},
   "source": [
    "Missing values"
   ]
  },
  {
   "cell_type": "code",
   "execution_count": 20,
   "id": "939c7801-a875-4721-8506-f927073beed7",
   "metadata": {},
   "outputs": [
    {
     "data": {
      "text/plain": [
       "make                    0\n",
       "model                   0\n",
       "year                    0\n",
       "engine_fuel_type        3\n",
       "engine_hp              69\n",
       "engine_cylinders       30\n",
       "transmission_type       0\n",
       "driven_wheels           0\n",
       "number_of_doors         6\n",
       "market_category      3742\n",
       "vehicle_size            0\n",
       "vehicle_style           0\n",
       "highway_mpg             0\n",
       "city_mpg                0\n",
       "popularity              0\n",
       "msrp                    0\n",
       "dtype: int64"
      ]
     },
     "execution_count": 20,
     "metadata": {},
     "output_type": "execute_result"
    }
   ],
   "source": [
    "df.isnull().sum()"
   ]
  },
  {
   "cell_type": "markdown",
   "id": "ba1c7d0f-3d34-4e68-8fbb-7896fe236998",
   "metadata": {},
   "source": [
    "## 2.4 Setting up the validation framework"
   ]
  },
  {
   "cell_type": "markdown",
   "id": "348bd87d-6773-42f1-b558-b8031bb75670",
   "metadata": {},
   "source": [
    "Let's draw it"
   ]
  },
  {
   "cell_type": "code",
   "execution_count": 21,
   "id": "8457d7cc-8b5c-475a-9285-4b284d52e236",
   "metadata": {},
   "outputs": [],
   "source": [
    "n = len(df)\n",
    "\n",
    "n_val = int(n * 0.2)\n",
    "n_test = int(n * 0.2)\n",
    "n_train = n - n_val - n_test"
   ]
  },
  {
   "cell_type": "code",
   "execution_count": 22,
   "id": "57fe6524-758c-40dd-9e1a-468ef22ba347",
   "metadata": {},
   "outputs": [
    {
     "data": {
      "text/plain": [
       "(11914, 2382, 2382, 7150)"
      ]
     },
     "execution_count": 22,
     "metadata": {},
     "output_type": "execute_result"
    }
   ],
   "source": [
    "n, n_val, n_test, n_train"
   ]
  },
  {
   "cell_type": "code",
   "execution_count": 23,
   "id": "22e32a15-3a8a-454d-a2b6-daf275296acf",
   "metadata": {},
   "outputs": [],
   "source": [
    "df_train = df.iloc[:n_train]\n",
    "df_val = df.iloc[n_train:n_train+n_val]\n",
    "df_test = df.iloc[n_train+n_val:]"
   ]
  },
  {
   "cell_type": "code",
   "execution_count": 24,
   "id": "0e7dc3a5-c85c-4878-bfc6-0102be37f9be",
   "metadata": {},
   "outputs": [
    {
     "data": {
      "text/html": [
       "<div>\n",
       "<style scoped>\n",
       "    .dataframe tbody tr th:only-of-type {\n",
       "        vertical-align: middle;\n",
       "    }\n",
       "\n",
       "    .dataframe tbody tr th {\n",
       "        vertical-align: top;\n",
       "    }\n",
       "\n",
       "    .dataframe thead th {\n",
       "        text-align: right;\n",
       "    }\n",
       "</style>\n",
       "<table border=\"1\" class=\"dataframe\">\n",
       "  <thead>\n",
       "    <tr style=\"text-align: right;\">\n",
       "      <th></th>\n",
       "      <th>make</th>\n",
       "      <th>model</th>\n",
       "      <th>year</th>\n",
       "      <th>engine_fuel_type</th>\n",
       "      <th>engine_hp</th>\n",
       "      <th>engine_cylinders</th>\n",
       "      <th>transmission_type</th>\n",
       "      <th>driven_wheels</th>\n",
       "      <th>number_of_doors</th>\n",
       "      <th>market_category</th>\n",
       "      <th>vehicle_size</th>\n",
       "      <th>vehicle_style</th>\n",
       "      <th>highway_mpg</th>\n",
       "      <th>city_mpg</th>\n",
       "      <th>popularity</th>\n",
       "      <th>msrp</th>\n",
       "    </tr>\n",
       "  </thead>\n",
       "  <tbody>\n",
       "    <tr>\n",
       "      <th>9532</th>\n",
       "      <td>chevrolet</td>\n",
       "      <td>silverado_1500</td>\n",
       "      <td>2015</td>\n",
       "      <td>regular_unleaded</td>\n",
       "      <td>355.0</td>\n",
       "      <td>8.0</td>\n",
       "      <td>automatic</td>\n",
       "      <td>rear_wheel_drive</td>\n",
       "      <td>4.0</td>\n",
       "      <td>NaN</td>\n",
       "      <td>large</td>\n",
       "      <td>crew_cab_pickup</td>\n",
       "      <td>23</td>\n",
       "      <td>16</td>\n",
       "      <td>1385</td>\n",
       "      <td>47575</td>\n",
       "    </tr>\n",
       "    <tr>\n",
       "      <th>9533</th>\n",
       "      <td>chevrolet</td>\n",
       "      <td>silverado_1500</td>\n",
       "      <td>2015</td>\n",
       "      <td>flex-fuel_(unleaded/e85)</td>\n",
       "      <td>285.0</td>\n",
       "      <td>6.0</td>\n",
       "      <td>automatic</td>\n",
       "      <td>rear_wheel_drive</td>\n",
       "      <td>4.0</td>\n",
       "      <td>flex_fuel</td>\n",
       "      <td>large</td>\n",
       "      <td>extended_cab_pickup</td>\n",
       "      <td>24</td>\n",
       "      <td>18</td>\n",
       "      <td>1385</td>\n",
       "      <td>31940</td>\n",
       "    </tr>\n",
       "    <tr>\n",
       "      <th>9534</th>\n",
       "      <td>chevrolet</td>\n",
       "      <td>silverado_1500</td>\n",
       "      <td>2015</td>\n",
       "      <td>flex-fuel_(unleaded/e85)</td>\n",
       "      <td>285.0</td>\n",
       "      <td>6.0</td>\n",
       "      <td>automatic</td>\n",
       "      <td>rear_wheel_drive</td>\n",
       "      <td>4.0</td>\n",
       "      <td>flex_fuel</td>\n",
       "      <td>large</td>\n",
       "      <td>crew_cab_pickup</td>\n",
       "      <td>24</td>\n",
       "      <td>18</td>\n",
       "      <td>1385</td>\n",
       "      <td>38335</td>\n",
       "    </tr>\n",
       "    <tr>\n",
       "      <th>9535</th>\n",
       "      <td>chevrolet</td>\n",
       "      <td>silverado_1500</td>\n",
       "      <td>2015</td>\n",
       "      <td>flex-fuel_(unleaded/e85)</td>\n",
       "      <td>285.0</td>\n",
       "      <td>6.0</td>\n",
       "      <td>automatic</td>\n",
       "      <td>rear_wheel_drive</td>\n",
       "      <td>4.0</td>\n",
       "      <td>flex_fuel</td>\n",
       "      <td>large</td>\n",
       "      <td>extended_cab_pickup</td>\n",
       "      <td>24</td>\n",
       "      <td>18</td>\n",
       "      <td>1385</td>\n",
       "      <td>35870</td>\n",
       "    </tr>\n",
       "    <tr>\n",
       "      <th>9536</th>\n",
       "      <td>chevrolet</td>\n",
       "      <td>silverado_1500</td>\n",
       "      <td>2015</td>\n",
       "      <td>flex-fuel_(unleaded/e85)</td>\n",
       "      <td>285.0</td>\n",
       "      <td>6.0</td>\n",
       "      <td>automatic</td>\n",
       "      <td>rear_wheel_drive</td>\n",
       "      <td>2.0</td>\n",
       "      <td>flex_fuel</td>\n",
       "      <td>large</td>\n",
       "      <td>regular_cab_pickup</td>\n",
       "      <td>24</td>\n",
       "      <td>18</td>\n",
       "      <td>1385</td>\n",
       "      <td>28155</td>\n",
       "    </tr>\n",
       "    <tr>\n",
       "      <th>...</th>\n",
       "      <td>...</td>\n",
       "      <td>...</td>\n",
       "      <td>...</td>\n",
       "      <td>...</td>\n",
       "      <td>...</td>\n",
       "      <td>...</td>\n",
       "      <td>...</td>\n",
       "      <td>...</td>\n",
       "      <td>...</td>\n",
       "      <td>...</td>\n",
       "      <td>...</td>\n",
       "      <td>...</td>\n",
       "      <td>...</td>\n",
       "      <td>...</td>\n",
       "      <td>...</td>\n",
       "      <td>...</td>\n",
       "    </tr>\n",
       "    <tr>\n",
       "      <th>11909</th>\n",
       "      <td>acura</td>\n",
       "      <td>zdx</td>\n",
       "      <td>2012</td>\n",
       "      <td>premium_unleaded_(required)</td>\n",
       "      <td>300.0</td>\n",
       "      <td>6.0</td>\n",
       "      <td>automatic</td>\n",
       "      <td>all_wheel_drive</td>\n",
       "      <td>4.0</td>\n",
       "      <td>crossover,hatchback,luxury</td>\n",
       "      <td>midsize</td>\n",
       "      <td>4dr_hatchback</td>\n",
       "      <td>23</td>\n",
       "      <td>16</td>\n",
       "      <td>204</td>\n",
       "      <td>46120</td>\n",
       "    </tr>\n",
       "    <tr>\n",
       "      <th>11910</th>\n",
       "      <td>acura</td>\n",
       "      <td>zdx</td>\n",
       "      <td>2012</td>\n",
       "      <td>premium_unleaded_(required)</td>\n",
       "      <td>300.0</td>\n",
       "      <td>6.0</td>\n",
       "      <td>automatic</td>\n",
       "      <td>all_wheel_drive</td>\n",
       "      <td>4.0</td>\n",
       "      <td>crossover,hatchback,luxury</td>\n",
       "      <td>midsize</td>\n",
       "      <td>4dr_hatchback</td>\n",
       "      <td>23</td>\n",
       "      <td>16</td>\n",
       "      <td>204</td>\n",
       "      <td>56670</td>\n",
       "    </tr>\n",
       "    <tr>\n",
       "      <th>11911</th>\n",
       "      <td>acura</td>\n",
       "      <td>zdx</td>\n",
       "      <td>2012</td>\n",
       "      <td>premium_unleaded_(required)</td>\n",
       "      <td>300.0</td>\n",
       "      <td>6.0</td>\n",
       "      <td>automatic</td>\n",
       "      <td>all_wheel_drive</td>\n",
       "      <td>4.0</td>\n",
       "      <td>crossover,hatchback,luxury</td>\n",
       "      <td>midsize</td>\n",
       "      <td>4dr_hatchback</td>\n",
       "      <td>23</td>\n",
       "      <td>16</td>\n",
       "      <td>204</td>\n",
       "      <td>50620</td>\n",
       "    </tr>\n",
       "    <tr>\n",
       "      <th>11912</th>\n",
       "      <td>acura</td>\n",
       "      <td>zdx</td>\n",
       "      <td>2013</td>\n",
       "      <td>premium_unleaded_(recommended)</td>\n",
       "      <td>300.0</td>\n",
       "      <td>6.0</td>\n",
       "      <td>automatic</td>\n",
       "      <td>all_wheel_drive</td>\n",
       "      <td>4.0</td>\n",
       "      <td>crossover,hatchback,luxury</td>\n",
       "      <td>midsize</td>\n",
       "      <td>4dr_hatchback</td>\n",
       "      <td>23</td>\n",
       "      <td>16</td>\n",
       "      <td>204</td>\n",
       "      <td>50920</td>\n",
       "    </tr>\n",
       "    <tr>\n",
       "      <th>11913</th>\n",
       "      <td>lincoln</td>\n",
       "      <td>zephyr</td>\n",
       "      <td>2006</td>\n",
       "      <td>regular_unleaded</td>\n",
       "      <td>221.0</td>\n",
       "      <td>6.0</td>\n",
       "      <td>automatic</td>\n",
       "      <td>front_wheel_drive</td>\n",
       "      <td>4.0</td>\n",
       "      <td>luxury</td>\n",
       "      <td>midsize</td>\n",
       "      <td>sedan</td>\n",
       "      <td>26</td>\n",
       "      <td>17</td>\n",
       "      <td>61</td>\n",
       "      <td>28995</td>\n",
       "    </tr>\n",
       "  </tbody>\n",
       "</table>\n",
       "<p>2382 rows × 16 columns</p>\n",
       "</div>"
      ],
      "text/plain": [
       "            make           model  year                engine_fuel_type  \\\n",
       "9532   chevrolet  silverado_1500  2015                regular_unleaded   \n",
       "9533   chevrolet  silverado_1500  2015        flex-fuel_(unleaded/e85)   \n",
       "9534   chevrolet  silverado_1500  2015        flex-fuel_(unleaded/e85)   \n",
       "9535   chevrolet  silverado_1500  2015        flex-fuel_(unleaded/e85)   \n",
       "9536   chevrolet  silverado_1500  2015        flex-fuel_(unleaded/e85)   \n",
       "...          ...             ...   ...                             ...   \n",
       "11909      acura             zdx  2012     premium_unleaded_(required)   \n",
       "11910      acura             zdx  2012     premium_unleaded_(required)   \n",
       "11911      acura             zdx  2012     premium_unleaded_(required)   \n",
       "11912      acura             zdx  2013  premium_unleaded_(recommended)   \n",
       "11913    lincoln          zephyr  2006                regular_unleaded   \n",
       "\n",
       "       engine_hp  engine_cylinders transmission_type      driven_wheels  \\\n",
       "9532       355.0               8.0         automatic   rear_wheel_drive   \n",
       "9533       285.0               6.0         automatic   rear_wheel_drive   \n",
       "9534       285.0               6.0         automatic   rear_wheel_drive   \n",
       "9535       285.0               6.0         automatic   rear_wheel_drive   \n",
       "9536       285.0               6.0         automatic   rear_wheel_drive   \n",
       "...          ...               ...               ...                ...   \n",
       "11909      300.0               6.0         automatic    all_wheel_drive   \n",
       "11910      300.0               6.0         automatic    all_wheel_drive   \n",
       "11911      300.0               6.0         automatic    all_wheel_drive   \n",
       "11912      300.0               6.0         automatic    all_wheel_drive   \n",
       "11913      221.0               6.0         automatic  front_wheel_drive   \n",
       "\n",
       "       number_of_doors             market_category vehicle_size  \\\n",
       "9532               4.0                         NaN        large   \n",
       "9533               4.0                   flex_fuel        large   \n",
       "9534               4.0                   flex_fuel        large   \n",
       "9535               4.0                   flex_fuel        large   \n",
       "9536               2.0                   flex_fuel        large   \n",
       "...                ...                         ...          ...   \n",
       "11909              4.0  crossover,hatchback,luxury      midsize   \n",
       "11910              4.0  crossover,hatchback,luxury      midsize   \n",
       "11911              4.0  crossover,hatchback,luxury      midsize   \n",
       "11912              4.0  crossover,hatchback,luxury      midsize   \n",
       "11913              4.0                      luxury      midsize   \n",
       "\n",
       "             vehicle_style  highway_mpg  city_mpg  popularity   msrp  \n",
       "9532       crew_cab_pickup           23        16        1385  47575  \n",
       "9533   extended_cab_pickup           24        18        1385  31940  \n",
       "9534       crew_cab_pickup           24        18        1385  38335  \n",
       "9535   extended_cab_pickup           24        18        1385  35870  \n",
       "9536    regular_cab_pickup           24        18        1385  28155  \n",
       "...                    ...          ...       ...         ...    ...  \n",
       "11909        4dr_hatchback           23        16         204  46120  \n",
       "11910        4dr_hatchback           23        16         204  56670  \n",
       "11911        4dr_hatchback           23        16         204  50620  \n",
       "11912        4dr_hatchback           23        16         204  50920  \n",
       "11913                sedan           26        17          61  28995  \n",
       "\n",
       "[2382 rows x 16 columns]"
      ]
     },
     "execution_count": 24,
     "metadata": {},
     "output_type": "execute_result"
    }
   ],
   "source": [
    "df_test"
   ]
  },
  {
   "cell_type": "code",
   "execution_count": 25,
   "id": "4700dbac-cac5-4a08-afb0-f577409ef08e",
   "metadata": {},
   "outputs": [],
   "source": [
    "idx = np.arange(n)"
   ]
  },
  {
   "cell_type": "code",
<<<<<<< HEAD
   "execution_count": 98,
=======
   "execution_count": 26,
>>>>>>> 97f59857e7ffa19eebb4b6d77b7711de7ba21dc4
   "id": "ec648a79-9b94-4abd-a880-95eee21fdefe",
   "metadata": {},
   "outputs": [],
   "source": [
    "np.random.seed(2)\n",
    "np.random.shuffle(idx)"
   ]
  },
  {
   "cell_type": "code",
   "execution_count": 27,
   "id": "a459b271-7db3-4028-b2f6-ca902e0d286f",
   "metadata": {},
   "outputs": [
    {
     "data": {
      "text/plain": [
       "array([2735, 6720, 5878, ..., 6637, 2575, 7336], shape=(11914,))"
      ]
     },
     "execution_count": 27,
     "metadata": {},
     "output_type": "execute_result"
    }
   ],
   "source": [
    "idx"
   ]
  },
  {
   "cell_type": "code",
   "execution_count": 28,
   "id": "db810d0a-dbfd-44e0-986a-fd921b7c2ebb",
   "metadata": {},
   "outputs": [],
   "source": [
    "df_train = df.iloc[idx[:n_train]]\n",
    "df_val = df.iloc[idx[n_train:n_train+n_val]]\n",
    "df_test = df.iloc[idx[n_train+n_val:]]"
   ]
  },
  {
   "cell_type": "code",
   "execution_count": 29,
   "id": "047875a2-f4b8-41d7-9c38-f449806f5585",
   "metadata": {},
   "outputs": [],
   "source": [
    "df_train = df_train.reset_index(drop=True)\n",
    "df_val = df_val.reset_index(drop=True)\n",
    "df_test = df_test.reset_index(drop=True)"
   ]
  },
  {
   "cell_type": "code",
   "execution_count": 30,
   "id": "702cf67d-d666-44c2-8610-74565fb9b0dc",
   "metadata": {},
   "outputs": [],
   "source": [
    "y_train = np.log1p(df_train.msrp.values)\n",
    "y_val = np.log1p(df_val.msrp.values)\n",
    "y_test = np.log1p(df_test.msrp.values)"
   ]
  },
  {
   "cell_type": "code",
   "execution_count": 31,
   "id": "65a863fa-7d8f-45d5-a9c6-78c9f42668ed",
   "metadata": {},
   "outputs": [],
   "source": [
    "del df_train['msrp']\n",
    "del df_val['msrp']\n",
    "del df_test['msrp']"
   ]
  },
  {
   "cell_type": "code",
   "execution_count": 32,
   "id": "66d17e39-862a-4d7e-9230-3425bf047d8d",
   "metadata": {},
   "outputs": [
    {
     "data": {
      "text/plain": [
       "7150"
      ]
     },
     "execution_count": 32,
     "metadata": {},
     "output_type": "execute_result"
    }
   ],
   "source": [
    "len(y_train)"
   ]
  },
  {
   "cell_type": "markdown",
   "id": "e0c1798c-cf45-4cc2-a38a-2f67a254f8c7",
   "metadata": {},
   "source": [
    "## 2.5 Linear regression"
   ]
  },
  {
   "cell_type": "markdown",
   "id": "b785952c-f34b-4142-9b09-fe2428b2e8ab",
   "metadata": {},
   "source": [
    "draw"
   ]
  },
  {
   "cell_type": "code",
   "execution_count": 33,
   "id": "f4eb82dd-63cb-4e95-9984-b63f818af5cb",
   "metadata": {},
   "outputs": [
    {
     "data": {
      "text/plain": [
       "make                                 rolls-royce\n",
       "model                     phantom_drophead_coupe\n",
       "year                                        2015\n",
       "engine_fuel_type     premium_unleaded_(required)\n",
       "engine_hp                                  453.0\n",
       "engine_cylinders                            12.0\n",
       "transmission_type                      automatic\n",
       "driven_wheels                   rear_wheel_drive\n",
       "number_of_doors                              2.0\n",
       "market_category        exotic,luxury,performance\n",
       "vehicle_size                               large\n",
       "vehicle_style                        convertible\n",
       "highway_mpg                                   19\n",
       "city_mpg                                      11\n",
       "popularity                                    86\n",
       "Name: 10, dtype: object"
      ]
     },
     "execution_count": 33,
     "metadata": {},
     "output_type": "execute_result"
    }
   ],
   "source": [
    "df_train.iloc[10]"
   ]
  },
  {
   "cell_type": "code",
   "execution_count": 34,
   "id": "3234d3a5-4586-4618-9e27-2d4286d8ddcc",
   "metadata": {},
   "outputs": [],
   "source": [
<<<<<<< HEAD
    "xi = [453, 11, 86]\n",
=======
    "xi = [453, 11, 86]"
   ]
  },
  {
   "cell_type": "code",
   "execution_count": 35,
   "id": "ee04642b-864e-4905-a8ec-57a8b9147e71",
   "metadata": {},
   "outputs": [],
   "source": [
>>>>>>> 97f59857e7ffa19eebb4b6d77b7711de7ba21dc4
    "w0 = 7.17\n",
    "w = [0.01, 0.04, 0.002]"
   ]
  },
  {
   "cell_type": "code",
<<<<<<< HEAD
   "execution_count": 35,
=======
   "execution_count": 36,
>>>>>>> 97f59857e7ffa19eebb4b6d77b7711de7ba21dc4
   "id": "b722d4bc-e1d0-4103-8c21-fcce81cd3140",
   "metadata": {},
   "outputs": [],
   "source": [
    "def linear_regression(xi):\n",
    "    n = len(xi)\n",
    "\n",
    "    pred = w0\n",
    "\n",
    "    for j in range(n):\n",
    "        pred = pred + w[j] * xi[j]\n",
    "        \n",
    "    return pred"
   ]
  },
  {
   "cell_type": "code",
<<<<<<< HEAD
   "execution_count": 36,
=======
   "execution_count": 37,
>>>>>>> 97f59857e7ffa19eebb4b6d77b7711de7ba21dc4
   "id": "4a46e27b-ed00-456e-b09d-e6eaa402566f",
   "metadata": {},
   "outputs": [
    {
     "data": {
      "text/plain": [
       "12.312"
      ]
     },
<<<<<<< HEAD
     "execution_count": 36,
=======
     "execution_count": 37,
     "metadata": {},
     "output_type": "execute_result"
    }
   ],
   "source": [
    "linear_regression(xi)"
   ]
  },
  {
   "cell_type": "code",
   "execution_count": 38,
   "id": "b8690d26-4c0d-4379-b6e9-7e1c43f74c58",
   "metadata": {},
   "outputs": [
    {
     "data": {
      "text/plain": [
       "np.float64(222347.2221101062)"
      ]
     },
     "execution_count": 38,
     "metadata": {},
     "output_type": "execute_result"
    }
   ],
   "source": [
    "np.expm1(12.312)"
   ]
  },
  {
   "cell_type": "code",
   "execution_count": 39,
   "id": "30b79900-fb9f-444b-a72e-571bf721f3be",
   "metadata": {},
   "outputs": [
    {
     "data": {
      "text/plain": [
       "np.float64(12.312)"
      ]
     },
     "execution_count": 39,
     "metadata": {},
     "output_type": "execute_result"
    }
   ],
   "source": [
    "np.log1p(222347.2221101062)"
   ]
  },
  {
   "cell_type": "markdown",
   "id": "cad6dd89-b8ed-4b08-a22b-fbe7b6861da7",
   "metadata": {
    "editable": true,
    "slideshow": {
     "slide_type": ""
    },
    "tags": []
   },
   "source": [
    "## 2.6 Linear regression vector form"
   ]
  },
  {
   "cell_type": "code",
   "execution_count": 40,
   "id": "0e2822c7-5fa8-474d-92b5-ee2f9b807dbd",
   "metadata": {},
   "outputs": [],
   "source": [
    "def dot(xi, w):\n",
    "    n = len(xi)\n",
    "\n",
    "    res = 0.0\n",
    "\n",
    "    for j in range(n):\n",
    "        res = res + xi[j] * w[j]\n",
    "\n",
    "    return res"
   ]
  },
  {
   "cell_type": "code",
   "execution_count": 41,
   "id": "952ee209-91de-4e62-8b91-7d65d3c2c4aa",
   "metadata": {},
   "outputs": [],
   "source": [
    "def linear_regression(xi):\n",
    "    w0 = 0\n",
    "    return w0 + dot(xi, w)"
   ]
  },
  {
   "cell_type": "code",
   "execution_count": 42,
   "id": "5d869b56-1c9f-4c7c-a8e8-f1aab52b4091",
   "metadata": {},
   "outputs": [],
   "source": [
    "w_new = [w0] + w"
   ]
  },
  {
   "cell_type": "code",
   "execution_count": 43,
   "id": "0f215c0e-4eed-4b32-93f6-ad2a22c862a3",
   "metadata": {},
   "outputs": [
    {
     "data": {
      "text/plain": [
       "[7.17, 0.01, 0.04, 0.002]"
      ]
     },
     "execution_count": 43,
     "metadata": {},
     "output_type": "execute_result"
    }
   ],
   "source": [
    "w_new"
   ]
  },
  {
   "cell_type": "code",
   "execution_count": 44,
   "id": "2968f7d8-ac09-4503-b155-fa2f1d5d8abd",
   "metadata": {},
   "outputs": [],
   "source": [
    "def linear_regression(xi):\n",
    "    xi = [1] + xi\n",
    "    return dot(xi, w_new)"
   ]
  },
  {
   "cell_type": "code",
   "execution_count": 45,
   "id": "3c2b6acc-226b-4222-9255-d9b015614f80",
   "metadata": {},
   "outputs": [
    {
     "data": {
      "text/plain": [
       "12.312"
      ]
     },
     "execution_count": 45,
>>>>>>> 97f59857e7ffa19eebb4b6d77b7711de7ba21dc4
     "metadata": {},
     "output_type": "execute_result"
    }
   ],
   "source": [
    "linear_regression(xi)"
   ]
  },
  {
   "cell_type": "code",
<<<<<<< HEAD
   "execution_count": 37,
   "id": "b8690d26-4c0d-4379-b6e9-7e1c43f74c58",
=======
   "execution_count": null,
   "id": "4b0ed2a7-b7b1-42af-b6a1-9df678e023c0",
>>>>>>> 97f59857e7ffa19eebb4b6d77b7711de7ba21dc4
   "metadata": {},
   "outputs": [
    {
     "data": {
      "text/plain": [
       "np.float64(222347.2221101062)"
      ]
     },
     "execution_count": 37,
     "metadata": {},
     "output_type": "execute_result"
    }
   ],
   "source": [
    "np.expm1(12.312)"
   ]
  },
  {
   "cell_type": "code",
   "execution_count": 38,
   "id": "30b79900-fb9f-444b-a72e-571bf721f3be",
   "metadata": {},
   "outputs": [
    {
     "data": {
      "text/plain": [
       "np.float64(12.312)"
      ]
     },
     "execution_count": 38,
     "metadata": {},
     "output_type": "execute_result"
    }
   ],
   "source": [
    "np.log1p(222347.2221101062)"
   ]
  },
  {
   "cell_type": "markdown",
   "id": "cad6dd89-b8ed-4b08-a22b-fbe7b6861da7",
   "metadata": {
    "editable": true,
    "slideshow": {
     "slide_type": ""
    },
    "tags": []
   },
   "source": [
    "## 2.6 Linear regression vector form"
   ]
  },
  {
   "cell_type": "code",
   "execution_count": 39,
   "id": "0e2822c7-5fa8-474d-92b5-ee2f9b807dbd",
   "metadata": {},
   "outputs": [],
   "source": [
    "def dot(xi, w):\n",
    "    n = len(xi)\n",
    "\n",
    "    res = 0.0\n",
    "\n",
    "    for j in range(n):\n",
    "        res = res + xi[j] * w[j]\n",
    "\n",
    "    return res"
   ]
  },
  {
   "cell_type": "code",
   "execution_count": 40,
   "id": "952ee209-91de-4e62-8b91-7d65d3c2c4aa",
   "metadata": {},
   "outputs": [],
   "source": [
    "def linear_regression(xi):\n",
    "    w0 = 0\n",
    "    return w0 + dot(xi, w)"
   ]
  },
  {
   "cell_type": "code",
   "execution_count": 41,
   "id": "5d869b56-1c9f-4c7c-a8e8-f1aab52b4091",
   "metadata": {},
   "outputs": [],
   "source": [
    "w_new = [w0] + w"
   ]
  },
  {
   "cell_type": "code",
   "execution_count": 42,
   "id": "0f215c0e-4eed-4b32-93f6-ad2a22c862a3",
   "metadata": {},
   "outputs": [
    {
     "data": {
      "text/plain": [
       "[7.17, 0.01, 0.04, 0.002]"
      ]
     },
     "execution_count": 42,
     "metadata": {},
     "output_type": "execute_result"
    }
   ],
   "source": [
    "w_new"
   ]
  },
  {
   "cell_type": "code",
   "execution_count": 43,
   "id": "2968f7d8-ac09-4503-b155-fa2f1d5d8abd",
   "metadata": {},
   "outputs": [],
   "source": [
    "def linear_regression(xi):\n",
    "    xi = [1] + xi\n",
    "    return dot(xi, w_new)"
   ]
  },
  {
   "cell_type": "code",
   "execution_count": 44,
   "id": "3c2b6acc-226b-4222-9255-d9b015614f80",
   "metadata": {},
   "outputs": [
    {
     "data": {
      "text/plain": [
       "12.312"
      ]
     },
     "execution_count": 44,
     "metadata": {},
     "output_type": "execute_result"
    }
   ],
   "source": [
    "linear_regression(xi)"
   ]
  },
  {
   "cell_type": "code",
   "execution_count": 45,
   "id": "4b0ed2a7-b7b1-42af-b6a1-9df678e023c0",
   "metadata": {},
   "outputs": [],
   "source": [
    "w0 = 7.17\n",
    "w = [0.01, 0.04, 0.002]\n",
    "w_new = [w0] + w"
   ]
  },
  {
   "cell_type": "code",
   "execution_count": 46,
   "id": "739c1834-ec3f-4112-811d-a8a8b94d22a3",
   "metadata": {},
   "outputs": [
    {
     "data": {
      "text/plain": [
       "array([[   1,  148,   24, 1385],\n",
       "       [   1,  132,   25, 2031],\n",
       "       [   1,  453,   11,   86]])"
      ]
     },
     "execution_count": 46,
     "metadata": {},
     "output_type": "execute_result"
    }
   ],
   "source": [
    "x1  = [1, 148, 24, 1385]\n",
    "x2  = [1, 132, 25, 2031]\n",
    "x10 = [1, 453, 11, 86]\n",
    "\n",
    "X = [x1, x2, x10]\n",
    "X = np.array(X)\n",
    "X"
   ]
  },
  {
   "cell_type": "code",
   "execution_count": 47,
   "id": "76b6c2c0-7d31-48f3-81a9-8428c0734d83",
   "metadata": {},
   "outputs": [],
   "source": [
    "def linear_regression(X):\n",
    "    return X.dot(w_new)"
   ]
  },
  {
   "cell_type": "code",
   "execution_count": 48,
   "id": "f448395e-2358-4a7c-b353-12f2d9737211",
   "metadata": {},
   "outputs": [
    {
     "data": {
      "text/plain": [
       "array([12.38 , 13.552, 12.312])"
      ]
     },
     "execution_count": 48,
     "metadata": {},
     "output_type": "execute_result"
    }
   ],
   "source": [
    "linear_regression(X)"
   ]
  },
  {
   "cell_type": "markdown",
   "id": "47a03c97-abf6-48c9-93a7-fa6641f5a727",
   "metadata": {},
   "source": [
    "## 2.7 Training a linear regression model"
   ]
  },
  {
   "cell_type": "code",
   "execution_count": 49,
   "id": "339d7758-edcb-4b27-afe1-0a4ee7229e62",
   "metadata": {},
   "outputs": [],
   "source": [
    "def train_linear_regression(X, y):\n",
    "    pass"
   ]
  },
  {
   "cell_type": "code",
   "execution_count": 50,
   "id": "8559dbf7-38ee-4428-875b-71e0e7249cf5",
   "metadata": {},
   "outputs": [
    {
     "data": {
      "text/plain": [
       "array([[ 148,   24, 1385],\n",
       "       [ 132,   25, 2031],\n",
       "       [ 453,   11,   86],\n",
       "       [ 158,   24,  185],\n",
       "       [ 172,   25,  201],\n",
       "       [ 413,   11,   86],\n",
       "       [  38,   54,  185],\n",
       "       [ 142,   25,  431],\n",
       "       [ 453,   31,   86]])"
      ]
     },
     "execution_count": 50,
     "metadata": {},
     "output_type": "execute_result"
    }
   ],
   "source": [
    "X = [\n",
    "    [148, 24, 1385],\n",
    "    [132, 25, 2031],\n",
    "    [453, 11, 86],\n",
    "    [158, 24, 185],\n",
    "    [172, 25, 201],\n",
    "    [413, 11, 86],\n",
    "    [38, 54, 185],\n",
    "    [142, 25, 431],\n",
    "    [453, 31, 86],\n",
    "]\n",
    "\n",
    "\n",
    "X = np.array(X)\n",
    "X"
   ]
  },
  {
   "cell_type": "code",
   "execution_count": 51,
   "id": "47cebf8c-3554-4916-be3d-463ce748fafa",
   "metadata": {},
   "outputs": [
    {
     "data": {
      "text/plain": [
       "array([1., 1., 1., 1., 1., 1., 1., 1., 1.])"
      ]
     },
     "execution_count": 51,
     "metadata": {},
     "output_type": "execute_result"
    }
   ],
   "source": [
    "ones = np.ones(X.shape[0])\n",
    "ones"
   ]
  },
  {
   "cell_type": "code",
   "execution_count": 76,
   "id": "e9a35687-c804-4156-bc05-f0300ab41d6b",
   "metadata": {},
   "outputs": [],
   "source": [
    "X = np.column_stack([ones, X])"
   ]
  },
  {
   "cell_type": "code",
   "execution_count": 78,
   "id": "a9b2630f-bb9b-4126-9288-9ff653cbea6f",
   "metadata": {},
   "outputs": [],
   "source": [
    "y = [10000, 20000, 15000, 20050, 10000, 20000, 15000, 25000, 12000]"
   ]
  },
  {
   "cell_type": "code",
   "execution_count": 79,
   "id": "c6274632-fc29-4a27-8b03-d0ee6d06cb04",
   "metadata": {},
   "outputs": [
    {
     "data": {
      "text/plain": [
       "array([[9.000000e+00, 9.000000e+00, 2.109000e+03, 2.300000e+02,\n",
       "        4.676000e+03],\n",
       "       [9.000000e+00, 9.000000e+00, 2.109000e+03, 2.300000e+02,\n",
       "        4.676000e+03],\n",
       "       [2.109000e+03, 2.109000e+03, 6.964710e+05, 4.411500e+04,\n",
       "        7.185400e+05],\n",
       "       [2.300000e+02, 2.300000e+02, 4.411500e+04, 7.146000e+03,\n",
       "        1.188030e+05],\n",
       "       [4.676000e+03, 4.676000e+03, 7.185400e+05, 1.188030e+05,\n",
       "        6.359986e+06]])"
      ]
     },
     "execution_count": 79,
     "metadata": {},
     "output_type": "execute_result"
    }
   ],
   "source": [
    "XTX = X.T.dot(X)\n",
    "XTX"
   ]
  },
  {
   "cell_type": "code",
   "execution_count": 85,
   "id": "a15b0c05-3b7f-4870-936e-f7cac467bb4e",
   "metadata": {},
   "outputs": [
    {
     "ename": "LinAlgError",
     "evalue": "Singular matrix",
     "output_type": "error",
     "traceback": [
      "\u001b[31m---------------------------------------------------------------------------\u001b[39m",
      "\u001b[31mLinAlgError\u001b[39m                               Traceback (most recent call last)",
      "\u001b[36mCell\u001b[39m\u001b[36m \u001b[39m\u001b[32mIn[85]\u001b[39m\u001b[32m, line 1\u001b[39m\n\u001b[32m----> \u001b[39m\u001b[32m1\u001b[39m XTX_inv = \u001b[43mnp\u001b[49m\u001b[43m.\u001b[49m\u001b[43mlinalg\u001b[49m\u001b[43m.\u001b[49m\u001b[43minv\u001b[49m\u001b[43m(\u001b[49m\u001b[43mXTX\u001b[49m\u001b[43m)\u001b[49m\n\u001b[32m      2\u001b[39m XTX_inv\n",
      "\u001b[36mFile \u001b[39m\u001b[32m~/.local/lib/python3.12/site-packages/numpy/linalg/_linalg.py:669\u001b[39m, in \u001b[36minv\u001b[39m\u001b[34m(a)\u001b[39m\n\u001b[32m    666\u001b[39m signature = \u001b[33m'\u001b[39m\u001b[33mD->D\u001b[39m\u001b[33m'\u001b[39m \u001b[38;5;28;01mif\u001b[39;00m isComplexType(t) \u001b[38;5;28;01melse\u001b[39;00m \u001b[33m'\u001b[39m\u001b[33md->d\u001b[39m\u001b[33m'\u001b[39m\n\u001b[32m    667\u001b[39m \u001b[38;5;28;01mwith\u001b[39;00m errstate(call=_raise_linalgerror_singular, invalid=\u001b[33m'\u001b[39m\u001b[33mcall\u001b[39m\u001b[33m'\u001b[39m,\n\u001b[32m    668\u001b[39m               over=\u001b[33m'\u001b[39m\u001b[33mignore\u001b[39m\u001b[33m'\u001b[39m, divide=\u001b[33m'\u001b[39m\u001b[33mignore\u001b[39m\u001b[33m'\u001b[39m, under=\u001b[33m'\u001b[39m\u001b[33mignore\u001b[39m\u001b[33m'\u001b[39m):\n\u001b[32m--> \u001b[39m\u001b[32m669\u001b[39m     ainv = \u001b[43m_umath_linalg\u001b[49m\u001b[43m.\u001b[49m\u001b[43minv\u001b[49m\u001b[43m(\u001b[49m\u001b[43ma\u001b[49m\u001b[43m,\u001b[49m\u001b[43m \u001b[49m\u001b[43msignature\u001b[49m\u001b[43m=\u001b[49m\u001b[43msignature\u001b[49m\u001b[43m)\u001b[49m\n\u001b[32m    670\u001b[39m \u001b[38;5;28;01mreturn\u001b[39;00m wrap(ainv.astype(result_t, copy=\u001b[38;5;28;01mFalse\u001b[39;00m))\n",
      "\u001b[36mFile \u001b[39m\u001b[32m~/.local/lib/python3.12/site-packages/numpy/linalg/_linalg.py:163\u001b[39m, in \u001b[36m_raise_linalgerror_singular\u001b[39m\u001b[34m(err, flag)\u001b[39m\n\u001b[32m    162\u001b[39m \u001b[38;5;28;01mdef\u001b[39;00m\u001b[38;5;250m \u001b[39m\u001b[34m_raise_linalgerror_singular\u001b[39m(err, flag):\n\u001b[32m--> \u001b[39m\u001b[32m163\u001b[39m     \u001b[38;5;28;01mraise\u001b[39;00m LinAlgError(\u001b[33m\"\u001b[39m\u001b[33mSingular matrix\u001b[39m\u001b[33m\"\u001b[39m)\n",
      "\u001b[31mLinAlgError\u001b[39m: Singular matrix"
     ]
    }
   ],
   "source": [
    "XTX_inv = np.linalg.inv(XTX)"
   ]
  },
  {
   "cell_type": "code",
   "execution_count": 86,
   "id": "3dffb837-277e-44e6-bcd1-127083265009",
   "metadata": {},
   "outputs": [
    {
     "data": {
      "text/plain": [
       "array([[ 3.30686958e+00, -5.39612291e-03, -6.21325581e-02,\n",
       "        -6.61016816e-04],\n",
       "       [-5.39612291e-03,  1.11633857e-05,  8.66973393e-05,\n",
       "         1.08664195e-06],\n",
       "       [-6.21325581e-02,  8.66973393e-05,  1.46189255e-03,\n",
       "         8.57849603e-06],\n",
       "       [-6.61016816e-04,  1.08664195e-06,  8.57849603e-06,\n",
       "         3.60215866e-07]])"
      ]
     },
     "execution_count": 86,
     "metadata": {},
     "output_type": "execute_result"
    }
   ],
   "source": [
    "XTX_inv"
   ]
  },
  {
   "cell_type": "code",
   "execution_count": 62,
   "id": "5be45386-1055-42a7-b1f3-feb4b0383e24",
   "metadata": {},
   "outputs": [],
   "source": [
    "w_full = XTX_inv.dot(X.T).dot(y)"
   ]
  },
  {
   "cell_type": "code",
   "execution_count": 63,
   "id": "c5462e9f-38d1-498f-861a-fbe624ec187d",
   "metadata": {},
   "outputs": [],
   "source": [
    "w0 = w_full[0]\n",
    "w = w_full[1:]"
   ]
  },
  {
   "cell_type": "code",
   "execution_count": 64,
   "id": "c9cf05de-d237-42fd-b318-49b977e44992",
   "metadata": {},
   "outputs": [
    {
     "data": {
      "text/plain": [
       "(np.float64(25844.754055766753),\n",
       " array([ -16.08906468, -199.47254894,   -1.22802883]))"
      ]
     },
     "execution_count": 64,
     "metadata": {},
     "output_type": "execute_result"
    }
   ],
   "source": [
    "w0, w"
   ]
  },
  {
   "cell_type": "code",
   "execution_count": 69,
   "id": "3e5a40ab-e089-45e6-9e46-274b6537c6fd",
   "metadata": {},
   "outputs": [],
   "source": [
    "def train_linear_regression(X, y):\n",
    "    ones = np.ones(X.shape[0])\n",
    "    X = np.column_stack([ones, X])\n",
    "\n",
    "    XTX = X.T.dot(X)\n",
    "    XTX_inv = np.linalg.inv(XTX)\n",
    "    w_full = XTX_inv.dot(X.T).dot(y)\n",
    "    \n",
    "    return w_full[0], w_full[1:]"
   ]
  },
  {
   "cell_type": "code",
   "execution_count": 73,
   "id": "365281a8-31c4-41e1-81d6-59dfa6d2385f",
   "metadata": {},
   "outputs": [
    {
     "data": {
      "text/plain": [
       "array([ 2.58447541e+04, -1.60890647e+01, -1.99472549e+02, -1.22802883e+00])"
      ]
     },
     "execution_count": 73,
     "metadata": {},
     "output_type": "execute_result"
    }
   ],
   "source": [
    "w_full"
   ]
  },
  {
   "cell_type": "code",
   "execution_count": 77,
   "id": "800e3e4f-252d-4360-8bc8-ec48a195cb26",
   "metadata": {},
   "outputs": [
    {
     "ename": "LinAlgError",
     "evalue": "Singular matrix",
     "output_type": "error",
     "traceback": [
      "\u001b[31m---------------------------------------------------------------------------\u001b[39m",
      "\u001b[31mLinAlgError\u001b[39m                               Traceback (most recent call last)",
      "\u001b[36mCell\u001b[39m\u001b[36m \u001b[39m\u001b[32mIn[77]\u001b[39m\u001b[32m, line 1\u001b[39m\n\u001b[32m----> \u001b[39m\u001b[32m1\u001b[39m \u001b[43mtrain_linear_regression\u001b[49m\u001b[43m(\u001b[49m\u001b[43mX\u001b[49m\u001b[43m,\u001b[49m\u001b[43m \u001b[49m\u001b[43my\u001b[49m\u001b[43m)\u001b[49m\n",
      "\u001b[36mCell\u001b[39m\u001b[36m \u001b[39m\u001b[32mIn[69]\u001b[39m\u001b[32m, line 6\u001b[39m, in \u001b[36mtrain_linear_regression\u001b[39m\u001b[34m(X, y)\u001b[39m\n\u001b[32m      3\u001b[39m X = np.column_stack([ones, X])\n\u001b[32m      5\u001b[39m XTX = X.T.dot(X)\n\u001b[32m----> \u001b[39m\u001b[32m6\u001b[39m XTX_inv = \u001b[43mnp\u001b[49m\u001b[43m.\u001b[49m\u001b[43mlinalg\u001b[49m\u001b[43m.\u001b[49m\u001b[43minv\u001b[49m\u001b[43m(\u001b[49m\u001b[43mXTX\u001b[49m\u001b[43m)\u001b[49m\n\u001b[32m      7\u001b[39m w_full = XTX_inv.dot(X.T).dot(y)\n\u001b[32m      9\u001b[39m \u001b[38;5;28;01mreturn\u001b[39;00m w_full[\u001b[32m0\u001b[39m], w_full[\u001b[32m1\u001b[39m:]\n",
      "\u001b[36mFile \u001b[39m\u001b[32m~/.local/lib/python3.12/site-packages/numpy/linalg/_linalg.py:669\u001b[39m, in \u001b[36minv\u001b[39m\u001b[34m(a)\u001b[39m\n\u001b[32m    666\u001b[39m signature = \u001b[33m'\u001b[39m\u001b[33mD->D\u001b[39m\u001b[33m'\u001b[39m \u001b[38;5;28;01mif\u001b[39;00m isComplexType(t) \u001b[38;5;28;01melse\u001b[39;00m \u001b[33m'\u001b[39m\u001b[33md->d\u001b[39m\u001b[33m'\u001b[39m\n\u001b[32m    667\u001b[39m \u001b[38;5;28;01mwith\u001b[39;00m errstate(call=_raise_linalgerror_singular, invalid=\u001b[33m'\u001b[39m\u001b[33mcall\u001b[39m\u001b[33m'\u001b[39m,\n\u001b[32m    668\u001b[39m               over=\u001b[33m'\u001b[39m\u001b[33mignore\u001b[39m\u001b[33m'\u001b[39m, divide=\u001b[33m'\u001b[39m\u001b[33mignore\u001b[39m\u001b[33m'\u001b[39m, under=\u001b[33m'\u001b[39m\u001b[33mignore\u001b[39m\u001b[33m'\u001b[39m):\n\u001b[32m--> \u001b[39m\u001b[32m669\u001b[39m     ainv = \u001b[43m_umath_linalg\u001b[49m\u001b[43m.\u001b[49m\u001b[43minv\u001b[49m\u001b[43m(\u001b[49m\u001b[43ma\u001b[49m\u001b[43m,\u001b[49m\u001b[43m \u001b[49m\u001b[43msignature\u001b[49m\u001b[43m=\u001b[49m\u001b[43msignature\u001b[49m\u001b[43m)\u001b[49m\n\u001b[32m    670\u001b[39m \u001b[38;5;28;01mreturn\u001b[39;00m wrap(ainv.astype(result_t, copy=\u001b[38;5;28;01mFalse\u001b[39;00m))\n",
      "\u001b[36mFile \u001b[39m\u001b[32m~/.local/lib/python3.12/site-packages/numpy/linalg/_linalg.py:163\u001b[39m, in \u001b[36m_raise_linalgerror_singular\u001b[39m\u001b[34m(err, flag)\u001b[39m\n\u001b[32m    162\u001b[39m \u001b[38;5;28;01mdef\u001b[39;00m\u001b[38;5;250m \u001b[39m\u001b[34m_raise_linalgerror_singular\u001b[39m(err, flag):\n\u001b[32m--> \u001b[39m\u001b[32m163\u001b[39m     \u001b[38;5;28;01mraise\u001b[39;00m LinAlgError(\u001b[33m\"\u001b[39m\u001b[33mSingular matrix\u001b[39m\u001b[33m\"\u001b[39m)\n",
      "\u001b[31mLinAlgError\u001b[39m: Singular matrix"
     ]
    }
   ],
   "source": [
    "train_linear_regression(X, y)"
   ]
  },
  {
   "cell_type": "markdown",
   "id": "208ee5c4-e80d-4417-9f7b-6054e57693c6",
   "metadata": {},
   "source": [
    "## 2.8 Car price baseline model"
   ]
  },
  {
   "cell_type": "code",
   "execution_count": 89,
   "id": "377fa0e0-3064-4d75-9fa3-59d2c3a12b0a",
   "metadata": {},
   "outputs": [
    {
     "data": {
      "text/plain": [
       "Index(['make', 'model', 'year', 'engine_fuel_type', 'engine_hp',\n",
       "       'engine_cylinders', 'transmission_type', 'driven_wheels',\n",
       "       'number_of_doors', 'market_category', 'vehicle_size', 'vehicle_style',\n",
       "       'highway_mpg', 'city_mpg', 'popularity'],\n",
       "      dtype='object')"
      ]
     },
     "execution_count": 89,
     "metadata": {},
     "output_type": "execute_result"
    }
   ],
   "source": [
    "df_train.columns"
   ]
  },
  {
   "cell_type": "code",
   "execution_count": 90,
   "id": "67cf462b-ae9d-46b5-8ce0-2ac4941032ea",
   "metadata": {},
   "outputs": [
    {
     "data": {
      "text/html": [
       "<div>\n",
       "<style scoped>\n",
       "    .dataframe tbody tr th:only-of-type {\n",
       "        vertical-align: middle;\n",
       "    }\n",
       "\n",
       "    .dataframe tbody tr th {\n",
       "        vertical-align: top;\n",
       "    }\n",
       "\n",
       "    .dataframe thead th {\n",
       "        text-align: right;\n",
       "    }\n",
       "</style>\n",
       "<table border=\"1\" class=\"dataframe\">\n",
       "  <thead>\n",
       "    <tr style=\"text-align: right;\">\n",
       "      <th></th>\n",
       "      <th>engine_hp</th>\n",
       "      <th>engine_cylinders</th>\n",
       "      <th>highway_mpg</th>\n",
       "      <th>city_mpg</th>\n",
       "      <th>popularity</th>\n",
       "    </tr>\n",
       "  </thead>\n",
       "  <tbody>\n",
       "    <tr>\n",
       "      <th>0</th>\n",
       "      <td>148.0</td>\n",
       "      <td>4.0</td>\n",
       "      <td>33</td>\n",
       "      <td>24</td>\n",
       "      <td>1385</td>\n",
       "    </tr>\n",
       "    <tr>\n",
       "      <th>1</th>\n",
       "      <td>132.0</td>\n",
       "      <td>4.0</td>\n",
       "      <td>32</td>\n",
       "      <td>25</td>\n",
       "      <td>2031</td>\n",
       "    </tr>\n",
       "    <tr>\n",
       "      <th>2</th>\n",
       "      <td>148.0</td>\n",
       "      <td>4.0</td>\n",
       "      <td>37</td>\n",
       "      <td>28</td>\n",
       "      <td>640</td>\n",
       "    </tr>\n",
       "    <tr>\n",
       "      <th>3</th>\n",
       "      <td>90.0</td>\n",
       "      <td>4.0</td>\n",
       "      <td>18</td>\n",
       "      <td>16</td>\n",
       "      <td>873</td>\n",
       "    </tr>\n",
       "    <tr>\n",
       "      <th>4</th>\n",
       "      <td>385.0</td>\n",
       "      <td>8.0</td>\n",
       "      <td>21</td>\n",
       "      <td>15</td>\n",
       "      <td>5657</td>\n",
       "    </tr>\n",
       "    <tr>\n",
       "      <th>...</th>\n",
       "      <td>...</td>\n",
       "      <td>...</td>\n",
       "      <td>...</td>\n",
       "      <td>...</td>\n",
       "      <td>...</td>\n",
       "    </tr>\n",
       "    <tr>\n",
       "      <th>7145</th>\n",
       "      <td>300.0</td>\n",
       "      <td>6.0</td>\n",
       "      <td>31</td>\n",
       "      <td>20</td>\n",
       "      <td>3916</td>\n",
       "    </tr>\n",
       "    <tr>\n",
       "      <th>7146</th>\n",
       "      <td>210.0</td>\n",
       "      <td>4.0</td>\n",
       "      <td>30</td>\n",
       "      <td>24</td>\n",
       "      <td>873</td>\n",
       "    </tr>\n",
       "    <tr>\n",
       "      <th>7147</th>\n",
       "      <td>285.0</td>\n",
       "      <td>6.0</td>\n",
       "      <td>22</td>\n",
       "      <td>17</td>\n",
       "      <td>549</td>\n",
       "    </tr>\n",
       "    <tr>\n",
       "      <th>7148</th>\n",
       "      <td>563.0</td>\n",
       "      <td>12.0</td>\n",
       "      <td>21</td>\n",
       "      <td>13</td>\n",
       "      <td>86</td>\n",
       "    </tr>\n",
       "    <tr>\n",
       "      <th>7149</th>\n",
       "      <td>200.0</td>\n",
       "      <td>4.0</td>\n",
       "      <td>31</td>\n",
       "      <td>22</td>\n",
       "      <td>873</td>\n",
       "    </tr>\n",
       "  </tbody>\n",
       "</table>\n",
       "<p>7150 rows × 5 columns</p>\n",
       "</div>"
      ],
      "text/plain": [
       "      engine_hp  engine_cylinders  highway_mpg  city_mpg  popularity\n",
       "0         148.0               4.0           33        24        1385\n",
       "1         132.0               4.0           32        25        2031\n",
       "2         148.0               4.0           37        28         640\n",
       "3          90.0               4.0           18        16         873\n",
       "4         385.0               8.0           21        15        5657\n",
       "...         ...               ...          ...       ...         ...\n",
       "7145      300.0               6.0           31        20        3916\n",
       "7146      210.0               4.0           30        24         873\n",
       "7147      285.0               6.0           22        17         549\n",
       "7148      563.0              12.0           21        13          86\n",
       "7149      200.0               4.0           31        22         873\n",
       "\n",
       "[7150 rows x 5 columns]"
      ]
     },
     "execution_count": 90,
     "metadata": {},
     "output_type": "execute_result"
    }
   ],
   "source": [
    "base = ['engine_hp', 'engine_cylinders', 'highway_mpg', 'city_mpg', 'popularity']\n",
    "df_train[base]"
   ]
  },
  {
   "cell_type": "code",
   "execution_count": 96,
   "id": "e16e2002-dd0f-42e7-8bae-c418d09ef3af",
   "metadata": {},
   "outputs": [],
   "source": [
    "X_train = df_train[base].fillna(0).values"
   ]
  },
  {
   "cell_type": "code",
   "execution_count": 100,
   "id": "c6305d2b-6ddb-49c5-b777-848965c0b14b",
   "metadata": {},
   "outputs": [],
   "source": [
    "w0, w = train_linear_regression(X_train, y_train)"
   ]
  },
  {
   "cell_type": "code",
   "execution_count": 101,
   "id": "d59adda4-e520-4f32-aca0-d72872c6cd69",
   "metadata": {},
   "outputs": [],
   "source": [
    "y_pred = w0 + X_train.dot(w)"
   ]
  },
  {
   "cell_type": "code",
   "execution_count": 102,
   "id": "e2c8d01b-18cf-4dbc-b172-264c30e520ea",
   "metadata": {},
   "outputs": [
    {
     "data": {
      "text/plain": [
       "<Axes: ylabel='Count'>"
      ]
     },
     "execution_count": 102,
     "metadata": {},
     "output_type": "execute_result"
    },
    {
     "data": {
      "image/png": "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",
      "text/plain": [
       "<Figure size 640x480 with 1 Axes>"
      ]
     },
     "metadata": {},
     "output_type": "display_data"
    }
   ],
   "source": [
    "sns.histplot(y_pred, color='red', alpha=0.5, bins=50)\n",
    "sns.histplot(y_train, color='blue', alpha=0.5, bins=50)"
   ]
  },
  {
   "cell_type": "markdown",
   "id": "7c642030-8552-4ba9-bfb4-430bc740bf34",
   "metadata": {},
   "source": [
    "## 2.9 RMSE"
   ]
  },
  {
   "cell_type": "code",
   "execution_count": 103,
   "id": "b090e0d3-be07-4794-aa45-906af9d080d4",
   "metadata": {},
   "outputs": [],
   "source": [
    "def rmse(y, y_pred):\n",
    "    error = y - y_pred\n",
    "    se = error ** 2\n",
    "    mse = se.mean()\n",
    "    return np.sqrt(mse)"
   ]
  },
  {
   "cell_type": "code",
   "execution_count": 104,
   "id": "fcfdc7d1-b385-40db-8a5b-0685b69ddf6a",
   "metadata": {},
   "outputs": [
    {
     "data": {
      "text/plain": [
       "np.float64(0.7554192603920132)"
      ]
     },
     "execution_count": 104,
     "metadata": {},
     "output_type": "execute_result"
    }
   ],
   "source": [
    "rmse(y_train, y_pred)"
   ]
  },
  {
   "cell_type": "markdown",
   "id": "9f4056eb-a286-48a3-a95d-8006b610666c",
   "metadata": {},
   "source": [
    "## 2.10 Validating the model"
   ]
  },
  {
   "cell_type": "code",
   "execution_count": 105,
   "id": "55b33801-11d2-4dc4-b658-a19f40c1f255",
   "metadata": {},
   "outputs": [],
   "source": [
    "base = ['engine_hp', 'engine_cylinders', 'highway_mpg', 'city_mpg', 'popularity']\n",
    "\n",
    "X_train = df_train[base].fillna(0).values\n",
    "\n",
    "w0, w = train_linear_regression(X_train, y_train)\n",
    "\n",
    "y_pred = w0 + X_train.dot(w)"
   ]
  },
  {
   "cell_type": "code",
   "execution_count": 106,
   "id": "7aafed6f-32d4-4969-ae36-194045b70009",
   "metadata": {},
   "outputs": [],
   "source": [
    "def prepare_X(df):\n",
    "    df_num = df[base]\n",
    "    df_num = df_num.fillna(0)\n",
    "    X = df_num.values\n",
    "    return X"
   ]
  },
  {
   "cell_type": "code",
   "execution_count": 107,
   "id": "e8d027a2-f059-4ab1-825a-ae31ecb9ff8f",
   "metadata": {},
   "outputs": [
    {
     "data": {
      "text/plain": [
       "np.float64(0.761653099130156)"
      ]
     },
     "execution_count": 107,
     "metadata": {},
     "output_type": "execute_result"
    }
   ],
   "source": [
    "X_train = prepare_X(df_train)\n",
    "w0,  w = train_linear_regression(X_train, y_train)\n",
    "\n",
    "X_val = prepare_X(df_val)\n",
    "y_pred = w0 + X_val.dot(w)\n",
    "\n",
    "rmse(y_val, y_pred)"
   ]
  },
  {
   "cell_type": "markdown",
   "id": "44aaf255-1be5-4087-ac08-0ccd0ebe50dd",
   "metadata": {},
   "source": [
    "## 2.11 Simple feature engineering"
   ]
  },
  {
   "cell_type": "code",
   "execution_count": 117,
   "id": "5421c37a-c03d-4cda-bd6f-ee6e794908c6",
   "metadata": {},
   "outputs": [],
   "source": [
    "def prepare_X(df):\n",
    "    df = df.copy()\n",
    "\n",
    "    df['ages'] = 2017 - df_train.year\n",
    "    features = base + ['ages']\n",
    "    \n",
    "    df_num = df[features]\n",
    "    df_num = df_num.fillna(0)\n",
    "    X = df_num.values\n",
    "    return X"
   ]
  },
  {
   "cell_type": "code",
   "execution_count": 123,
   "id": "ca0fbf95-0d3e-4f8d-9453-6c51510e599f",
   "metadata": {},
   "outputs": [
    {
     "data": {
      "text/plain": [
       "np.float64(1.1083438396771041)"
      ]
     },
     "execution_count": 123,
     "metadata": {},
     "output_type": "execute_result"
    }
   ],
   "source": [
    "X_train = prepare_X(df_train)\n",
    "w0,  w = train_linear_regression(X_train, y_train)\n",
    "\n",
    "X_val = prepare_X(df_val)\n",
    "y_pred = w0 + X_val.dot(w)\n",
    "\n",
    "rmse(y_val, y_pred)"
   ]
  },
  {
   "cell_type": "code",
   "execution_count": 124,
   "id": "6e63c8ed-5818-42d5-8dec-abcb3b9447e4",
   "metadata": {},
   "outputs": [
    {
     "data": {
      "text/plain": [
       "<Axes: ylabel='Count'>"
      ]
     },
     "execution_count": 124,
     "metadata": {},
     "output_type": "execute_result"
    },
    {
     "data": {
      "image/png": "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",
      "text/plain": [
       "<Figure size 640x480 with 1 Axes>"
      ]
     },
     "metadata": {},
     "output_type": "display_data"
    }
   ],
   "source": [
    "sns.histplot(y_pred, color='red', alpha=0.5, bins=50)\n",
    "sns.histplot(y_val, color='blue', alpha=0.5, bins=50)"
   ]
  },
  {
   "cell_type": "markdown",
   "id": "fadc602d-150e-4670-9146-ee02af605628",
   "metadata": {},
   "source": [
    "## 2.12 Categorical variables"
   ]
  },
  {
   "cell_type": "code",
   "execution_count": null,
   "id": "dd186820-886d-4f58-977c-3dd35411a7e2",
   "metadata": {},
   "outputs": [],
   "source": []
  }
 ],
 "metadata": {
  "kernelspec": {
   "display_name": "Python 3 (ipykernel)",
   "language": "python",
   "name": "python3"
  },
  "language_info": {
   "codemirror_mode": {
    "name": "ipython",
    "version": 3
   },
   "file_extension": ".py",
   "mimetype": "text/x-python",
   "name": "python",
   "nbconvert_exporter": "python",
   "pygments_lexer": "ipython3",
   "version": "3.12.1"
  }
 },
 "nbformat": 4,
 "nbformat_minor": 5
}
